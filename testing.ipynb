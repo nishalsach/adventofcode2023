{
 "cells": [
  {
   "cell_type": "code",
   "execution_count": 1,
   "id": "ce00793d-09a0-4c8d-adb8-c7509f8c9261",
   "metadata": {
    "tags": []
   },
   "outputs": [],
   "source": [
    "import re\n",
    "\n",
    "# Read in\n",
    "f = open(\"input/day2.txt\", \"r\")\n",
    "\n",
    "# Init a value\n",
    "powers_sum = 0"
   ]
  },
  {
   "cell_type": "code",
   "execution_count": 2,
   "id": "3b292dbc-7e99-4e3c-812e-079218cc0166",
   "metadata": {
    "tags": []
   },
   "outputs": [],
   "source": []
  },
  {
   "cell_type": "code",
   "execution_count": 3,
   "id": "a1ba7cb5-ce45-463f-b33b-c79f890ccff0",
   "metadata": {
    "tags": []
   },
   "outputs": [],
   "source": []
  },
  {
   "cell_type": "code",
   "execution_count": 4,
   "id": "f62f1f97-3f50-4132-8a0e-ef5b339af631",
   "metadata": {
    "tags": []
   },
   "outputs": [
    {
     "data": {
      "text/plain": [
       "72596"
      ]
     },
     "execution_count": 4,
     "metadata": {},
     "output_type": "execute_result"
    }
   ],
   "source": [
    "powers_sum"
   ]
  },
  {
   "cell_type": "code",
   "execution_count": null,
   "id": "9f53c0f3-974c-42ab-9c97-99bfeed7da4a",
   "metadata": {},
   "outputs": [],
   "source": []
  }
 ],
 "metadata": {
  "kernelspec": {
   "display_name": "Python 3 (ipykernel)",
   "language": "python",
   "name": "python3"
  },
  "language_info": {
   "codemirror_mode": {
    "name": "ipython",
    "version": 3
   },
   "file_extension": ".py",
   "mimetype": "text/x-python",
   "name": "python",
   "nbconvert_exporter": "python",
   "pygments_lexer": "ipython3",
   "version": "3.10.11"
  }
 },
 "nbformat": 4,
 "nbformat_minor": 5
}
